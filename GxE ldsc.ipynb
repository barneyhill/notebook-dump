{
 "cells": [
  {
   "cell_type": "code",
   "execution_count": 1,
   "id": "6f297a3c",
   "metadata": {},
   "outputs": [
    {
     "name": "stdout",
     "output_type": "stream",
     "text": [
      "2022-09-28 10:42:48 WARN  NativeCodeLoader:60 - Unable to load native-hadoop library for your platform... using builtin-java classes where applicable\n"
     ]
    },
    {
     "name": "stderr",
     "output_type": "stream",
     "text": [
      "Setting default log level to \"WARN\".\n",
      "To adjust logging level use sc.setLogLevel(newLevel). For SparkR, use setLogLevel(newLevel).\n",
      "Running on Apache Spark version 3.1.3\n",
      "SparkUI available at http://compa021.hpc.in.bmrc.ox.ac.uk:4040\n",
      "Welcome to\n",
      "     __  __     <>__\n",
      "    / /_/ /__  __/ /\n",
      "   / __  / _ `/ / /\n",
      "  /_/ /_/\\_,_/_/_/   version 0.2.99-57537fea08d4\n",
      "LOGGING: writing to /gpfs3/users/lindgren/hjo721/hail/hail-20220928-1042-0.2.99-57537fea08d4.log\n"
     ]
    },
    {
     "data": {
      "text/html": [
       "\n",
       "    <div class=\"bk-root\">\n",
       "        <a href=\"https://bokeh.org\" target=\"_blank\" class=\"bk-logo bk-logo-small bk-logo-notebook\"></a>\n",
       "        <span id=\"1001\">Loading BokehJS ...</span>\n",
       "    </div>"
      ]
     },
     "metadata": {},
     "output_type": "display_data"
    },
    {
     "data": {
      "application/javascript": [
       "\n",
       "(function(root) {\n",
       "  function now() {\n",
       "    return new Date();\n",
       "  }\n",
       "\n",
       "  var force = true;\n",
       "\n",
       "  if (typeof root._bokeh_onload_callbacks === \"undefined\" || force === true) {\n",
       "    root._bokeh_onload_callbacks = [];\n",
       "    root._bokeh_is_loading = undefined;\n",
       "  }\n",
       "\n",
       "  var JS_MIME_TYPE = 'application/javascript';\n",
       "  var HTML_MIME_TYPE = 'text/html';\n",
       "  var EXEC_MIME_TYPE = 'application/vnd.bokehjs_exec.v0+json';\n",
       "  var CLASS_NAME = 'output_bokeh rendered_html';\n",
       "\n",
       "  /**\n",
       "   * Render data to the DOM node\n",
       "   */\n",
       "  function render(props, node) {\n",
       "    var script = document.createElement(\"script\");\n",
       "    node.appendChild(script);\n",
       "  }\n",
       "\n",
       "  /**\n",
       "   * Handle when an output is cleared or removed\n",
       "   */\n",
       "  function handleClearOutput(event, handle) {\n",
       "    var cell = handle.cell;\n",
       "\n",
       "    var id = cell.output_area._bokeh_element_id;\n",
       "    var server_id = cell.output_area._bokeh_server_id;\n",
       "    // Clean up Bokeh references\n",
       "    if (id != null && id in Bokeh.index) {\n",
       "      Bokeh.index[id].model.document.clear();\n",
       "      delete Bokeh.index[id];\n",
       "    }\n",
       "\n",
       "    if (server_id !== undefined) {\n",
       "      // Clean up Bokeh references\n",
       "      var cmd = \"from bokeh.io.state import curstate; print(curstate().uuid_to_server['\" + server_id + \"'].get_sessions()[0].document.roots[0]._id)\";\n",
       "      cell.notebook.kernel.execute(cmd, {\n",
       "        iopub: {\n",
       "          output: function(msg) {\n",
       "            var id = msg.content.text.trim();\n",
       "            if (id in Bokeh.index) {\n",
       "              Bokeh.index[id].model.document.clear();\n",
       "              delete Bokeh.index[id];\n",
       "            }\n",
       "          }\n",
       "        }\n",
       "      });\n",
       "      // Destroy server and session\n",
       "      var cmd = \"import bokeh.io.notebook as ion; ion.destroy_server('\" + server_id + \"')\";\n",
       "      cell.notebook.kernel.execute(cmd);\n",
       "    }\n",
       "  }\n",
       "\n",
       "  /**\n",
       "   * Handle when a new output is added\n",
       "   */\n",
       "  function handleAddOutput(event, handle) {\n",
       "    var output_area = handle.output_area;\n",
       "    var output = handle.output;\n",
       "\n",
       "    // limit handleAddOutput to display_data with EXEC_MIME_TYPE content only\n",
       "    if ((output.output_type != \"display_data\") || (!output.data.hasOwnProperty(EXEC_MIME_TYPE))) {\n",
       "      return\n",
       "    }\n",
       "\n",
       "    var toinsert = output_area.element.find(\".\" + CLASS_NAME.split(' ')[0]);\n",
       "\n",
       "    if (output.metadata[EXEC_MIME_TYPE][\"id\"] !== undefined) {\n",
       "      toinsert[toinsert.length - 1].firstChild.textContent = output.data[JS_MIME_TYPE];\n",
       "      // store reference to embed id on output_area\n",
       "      output_area._bokeh_element_id = output.metadata[EXEC_MIME_TYPE][\"id\"];\n",
       "    }\n",
       "    if (output.metadata[EXEC_MIME_TYPE][\"server_id\"] !== undefined) {\n",
       "      var bk_div = document.createElement(\"div\");\n",
       "      bk_div.innerHTML = output.data[HTML_MIME_TYPE];\n",
       "      var script_attrs = bk_div.children[0].attributes;\n",
       "      for (var i = 0; i < script_attrs.length; i++) {\n",
       "        toinsert[toinsert.length - 1].firstChild.setAttribute(script_attrs[i].name, script_attrs[i].value);\n",
       "      }\n",
       "      // store reference to server id on output_area\n",
       "      output_area._bokeh_server_id = output.metadata[EXEC_MIME_TYPE][\"server_id\"];\n",
       "    }\n",
       "  }\n",
       "\n",
       "  function register_renderer(events, OutputArea) {\n",
       "\n",
       "    function append_mime(data, metadata, element) {\n",
       "      // create a DOM node to render to\n",
       "      var toinsert = this.create_output_subarea(\n",
       "        metadata,\n",
       "        CLASS_NAME,\n",
       "        EXEC_MIME_TYPE\n",
       "      );\n",
       "      this.keyboard_manager.register_events(toinsert);\n",
       "      // Render to node\n",
       "      var props = {data: data, metadata: metadata[EXEC_MIME_TYPE]};\n",
       "      render(props, toinsert[toinsert.length - 1]);\n",
       "      element.append(toinsert);\n",
       "      return toinsert\n",
       "    }\n",
       "\n",
       "    /* Handle when an output is cleared or removed */\n",
       "    events.on('clear_output.CodeCell', handleClearOutput);\n",
       "    events.on('delete.Cell', handleClearOutput);\n",
       "\n",
       "    /* Handle when a new output is added */\n",
       "    events.on('output_added.OutputArea', handleAddOutput);\n",
       "\n",
       "    /**\n",
       "     * Register the mime type and append_mime function with output_area\n",
       "     */\n",
       "    OutputArea.prototype.register_mime_type(EXEC_MIME_TYPE, append_mime, {\n",
       "      /* Is output safe? */\n",
       "      safe: true,\n",
       "      /* Index of renderer in `output_area.display_order` */\n",
       "      index: 0\n",
       "    });\n",
       "  }\n",
       "\n",
       "  // register the mime type if in Jupyter Notebook environment and previously unregistered\n",
       "  if (root.Jupyter !== undefined) {\n",
       "    var events = require('base/js/events');\n",
       "    var OutputArea = require('notebook/js/outputarea').OutputArea;\n",
       "\n",
       "    if (OutputArea.prototype.mime_types().indexOf(EXEC_MIME_TYPE) == -1) {\n",
       "      register_renderer(events, OutputArea);\n",
       "    }\n",
       "  }\n",
       "\n",
       "  \n",
       "  if (typeof (root._bokeh_timeout) === \"undefined\" || force === true) {\n",
       "    root._bokeh_timeout = Date.now() + 5000;\n",
       "    root._bokeh_failed_load = false;\n",
       "  }\n",
       "\n",
       "  var NB_LOAD_WARNING = {'data': {'text/html':\n",
       "     \"<div style='background-color: #fdd'>\\n\"+\n",
       "     \"<p>\\n\"+\n",
       "     \"BokehJS does not appear to have successfully loaded. If loading BokehJS from CDN, this \\n\"+\n",
       "     \"may be due to a slow or bad network connection. Possible fixes:\\n\"+\n",
       "     \"</p>\\n\"+\n",
       "     \"<ul>\\n\"+\n",
       "     \"<li>re-rerun `output_notebook()` to attempt to load from CDN again, or</li>\\n\"+\n",
       "     \"<li>use INLINE resources instead, as so:</li>\\n\"+\n",
       "     \"</ul>\\n\"+\n",
       "     \"<code>\\n\"+\n",
       "     \"from bokeh.resources import INLINE\\n\"+\n",
       "     \"output_notebook(resources=INLINE)\\n\"+\n",
       "     \"</code>\\n\"+\n",
       "     \"</div>\"}};\n",
       "\n",
       "  function display_loaded() {\n",
       "    var el = document.getElementById(\"1001\");\n",
       "    if (el != null) {\n",
       "      el.textContent = \"BokehJS is loading...\";\n",
       "    }\n",
       "    if (root.Bokeh !== undefined) {\n",
       "      if (el != null) {\n",
       "        el.textContent = \"BokehJS \" + root.Bokeh.version + \" successfully loaded.\";\n",
       "      }\n",
       "    } else if (Date.now() < root._bokeh_timeout) {\n",
       "      setTimeout(display_loaded, 100)\n",
       "    }\n",
       "  }\n",
       "\n",
       "\n",
       "  function run_callbacks() {\n",
       "    try {\n",
       "      root._bokeh_onload_callbacks.forEach(function(callback) {\n",
       "        if (callback != null)\n",
       "          callback();\n",
       "      });\n",
       "    } finally {\n",
       "      delete root._bokeh_onload_callbacks\n",
       "    }\n",
       "    console.debug(\"Bokeh: all callbacks have finished\");\n",
       "  }\n",
       "\n",
       "  function load_libs(css_urls, js_urls, callback) {\n",
       "    if (css_urls == null) css_urls = [];\n",
       "    if (js_urls == null) js_urls = [];\n",
       "\n",
       "    root._bokeh_onload_callbacks.push(callback);\n",
       "    if (root._bokeh_is_loading > 0) {\n",
       "      console.debug(\"Bokeh: BokehJS is being loaded, scheduling callback at\", now());\n",
       "      return null;\n",
       "    }\n",
       "    if (js_urls == null || js_urls.length === 0) {\n",
       "      run_callbacks();\n",
       "      return null;\n",
       "    }\n",
       "    console.debug(\"Bokeh: BokehJS not loaded, scheduling load and callback at\", now());\n",
       "    root._bokeh_is_loading = css_urls.length + js_urls.length;\n",
       "\n",
       "    function on_load() {\n",
       "      root._bokeh_is_loading--;\n",
       "      if (root._bokeh_is_loading === 0) {\n",
       "        console.debug(\"Bokeh: all BokehJS libraries/stylesheets loaded\");\n",
       "        run_callbacks()\n",
       "      }\n",
       "    }\n",
       "\n",
       "    function on_error() {\n",
       "      console.error(\"failed to load \" + url);\n",
       "    }\n",
       "\n",
       "    for (var i = 0; i < css_urls.length; i++) {\n",
       "      var url = css_urls[i];\n",
       "      const element = document.createElement(\"link\");\n",
       "      element.onload = on_load;\n",
       "      element.onerror = on_error;\n",
       "      element.rel = \"stylesheet\";\n",
       "      element.type = \"text/css\";\n",
       "      element.href = url;\n",
       "      console.debug(\"Bokeh: injecting link tag for BokehJS stylesheet: \", url);\n",
       "      document.body.appendChild(element);\n",
       "    }\n",
       "\n",
       "    for (var i = 0; i < js_urls.length; i++) {\n",
       "      var url = js_urls[i];\n",
       "      var element = document.createElement('script');\n",
       "      element.onload = on_load;\n",
       "      element.onerror = on_error;\n",
       "      element.async = false;\n",
       "      element.src = url;\n",
       "      console.debug(\"Bokeh: injecting script tag for BokehJS library: \", url);\n",
       "      document.head.appendChild(element);\n",
       "    }\n",
       "  };var element = document.getElementById(\"1001\");\n",
       "  if (element == null) {\n",
       "    console.error(\"Bokeh: ERROR: autoload.js configured with elementid '1001' but no matching script tag was found. \")\n",
       "    return false;\n",
       "  }\n",
       "\n",
       "  function inject_raw_css(css) {\n",
       "    const element = document.createElement(\"style\");\n",
       "    element.appendChild(document.createTextNode(css));\n",
       "    document.body.appendChild(element);\n",
       "  }\n",
       "\n",
       "  \n",
       "  var js_urls = [\"https://cdn.pydata.org/bokeh/release/bokeh-1.4.0.min.js\", \"https://cdn.pydata.org/bokeh/release/bokeh-widgets-1.4.0.min.js\", \"https://cdn.pydata.org/bokeh/release/bokeh-tables-1.4.0.min.js\", \"https://cdn.pydata.org/bokeh/release/bokeh-gl-1.4.0.min.js\"];\n",
       "  var css_urls = [];\n",
       "  \n",
       "\n",
       "  var inline_js = [\n",
       "    function(Bokeh) {\n",
       "      Bokeh.set_log_level(\"info\");\n",
       "    },\n",
       "    function(Bokeh) {\n",
       "    \n",
       "    \n",
       "    }\n",
       "  ];\n",
       "\n",
       "  function run_inline_js() {\n",
       "    \n",
       "    if (root.Bokeh !== undefined || force === true) {\n",
       "      \n",
       "    for (var i = 0; i < inline_js.length; i++) {\n",
       "      inline_js[i].call(root, root.Bokeh);\n",
       "    }\n",
       "    if (force === true) {\n",
       "        display_loaded();\n",
       "      }} else if (Date.now() < root._bokeh_timeout) {\n",
       "      setTimeout(run_inline_js, 100);\n",
       "    } else if (!root._bokeh_failed_load) {\n",
       "      console.log(\"Bokeh: BokehJS failed to load within specified timeout.\");\n",
       "      root._bokeh_failed_load = true;\n",
       "    } else if (force !== true) {\n",
       "      var cell = $(document.getElementById(\"1001\")).parents('.cell').data().cell;\n",
       "      cell.output_area.append_execute_result(NB_LOAD_WARNING)\n",
       "    }\n",
       "\n",
       "  }\n",
       "\n",
       "  if (root._bokeh_is_loading === 0) {\n",
       "    console.debug(\"Bokeh: BokehJS loaded, going straight to plotting\");\n",
       "    run_inline_js();\n",
       "  } else {\n",
       "    load_libs(css_urls, js_urls, function() {\n",
       "      console.debug(\"Bokeh: BokehJS plotting callback run at\", now());\n",
       "      run_inline_js();\n",
       "    });\n",
       "  }\n",
       "}(window));"
      ],
      "application/vnd.bokehjs_load.v0+json": "\n(function(root) {\n  function now() {\n    return new Date();\n  }\n\n  var force = true;\n\n  if (typeof root._bokeh_onload_callbacks === \"undefined\" || force === true) {\n    root._bokeh_onload_callbacks = [];\n    root._bokeh_is_loading = undefined;\n  }\n\n  \n\n  \n  if (typeof (root._bokeh_timeout) === \"undefined\" || force === true) {\n    root._bokeh_timeout = Date.now() + 5000;\n    root._bokeh_failed_load = false;\n  }\n\n  var NB_LOAD_WARNING = {'data': {'text/html':\n     \"<div style='background-color: #fdd'>\\n\"+\n     \"<p>\\n\"+\n     \"BokehJS does not appear to have successfully loaded. If loading BokehJS from CDN, this \\n\"+\n     \"may be due to a slow or bad network connection. Possible fixes:\\n\"+\n     \"</p>\\n\"+\n     \"<ul>\\n\"+\n     \"<li>re-rerun `output_notebook()` to attempt to load from CDN again, or</li>\\n\"+\n     \"<li>use INLINE resources instead, as so:</li>\\n\"+\n     \"</ul>\\n\"+\n     \"<code>\\n\"+\n     \"from bokeh.resources import INLINE\\n\"+\n     \"output_notebook(resources=INLINE)\\n\"+\n     \"</code>\\n\"+\n     \"</div>\"}};\n\n  function display_loaded() {\n    var el = document.getElementById(\"1001\");\n    if (el != null) {\n      el.textContent = \"BokehJS is loading...\";\n    }\n    if (root.Bokeh !== undefined) {\n      if (el != null) {\n        el.textContent = \"BokehJS \" + root.Bokeh.version + \" successfully loaded.\";\n      }\n    } else if (Date.now() < root._bokeh_timeout) {\n      setTimeout(display_loaded, 100)\n    }\n  }\n\n\n  function run_callbacks() {\n    try {\n      root._bokeh_onload_callbacks.forEach(function(callback) {\n        if (callback != null)\n          callback();\n      });\n    } finally {\n      delete root._bokeh_onload_callbacks\n    }\n    console.debug(\"Bokeh: all callbacks have finished\");\n  }\n\n  function load_libs(css_urls, js_urls, callback) {\n    if (css_urls == null) css_urls = [];\n    if (js_urls == null) js_urls = [];\n\n    root._bokeh_onload_callbacks.push(callback);\n    if (root._bokeh_is_loading > 0) {\n      console.debug(\"Bokeh: BokehJS is being loaded, scheduling callback at\", now());\n      return null;\n    }\n    if (js_urls == null || js_urls.length === 0) {\n      run_callbacks();\n      return null;\n    }\n    console.debug(\"Bokeh: BokehJS not loaded, scheduling load and callback at\", now());\n    root._bokeh_is_loading = css_urls.length + js_urls.length;\n\n    function on_load() {\n      root._bokeh_is_loading--;\n      if (root._bokeh_is_loading === 0) {\n        console.debug(\"Bokeh: all BokehJS libraries/stylesheets loaded\");\n        run_callbacks()\n      }\n    }\n\n    function on_error() {\n      console.error(\"failed to load \" + url);\n    }\n\n    for (var i = 0; i < css_urls.length; i++) {\n      var url = css_urls[i];\n      const element = document.createElement(\"link\");\n      element.onload = on_load;\n      element.onerror = on_error;\n      element.rel = \"stylesheet\";\n      element.type = \"text/css\";\n      element.href = url;\n      console.debug(\"Bokeh: injecting link tag for BokehJS stylesheet: \", url);\n      document.body.appendChild(element);\n    }\n\n    for (var i = 0; i < js_urls.length; i++) {\n      var url = js_urls[i];\n      var element = document.createElement('script');\n      element.onload = on_load;\n      element.onerror = on_error;\n      element.async = false;\n      element.src = url;\n      console.debug(\"Bokeh: injecting script tag for BokehJS library: \", url);\n      document.head.appendChild(element);\n    }\n  };var element = document.getElementById(\"1001\");\n  if (element == null) {\n    console.error(\"Bokeh: ERROR: autoload.js configured with elementid '1001' but no matching script tag was found. \")\n    return false;\n  }\n\n  function inject_raw_css(css) {\n    const element = document.createElement(\"style\");\n    element.appendChild(document.createTextNode(css));\n    document.body.appendChild(element);\n  }\n\n  \n  var js_urls = [\"https://cdn.pydata.org/bokeh/release/bokeh-1.4.0.min.js\", \"https://cdn.pydata.org/bokeh/release/bokeh-widgets-1.4.0.min.js\", \"https://cdn.pydata.org/bokeh/release/bokeh-tables-1.4.0.min.js\", \"https://cdn.pydata.org/bokeh/release/bokeh-gl-1.4.0.min.js\"];\n  var css_urls = [];\n  \n\n  var inline_js = [\n    function(Bokeh) {\n      Bokeh.set_log_level(\"info\");\n    },\n    function(Bokeh) {\n    \n    \n    }\n  ];\n\n  function run_inline_js() {\n    \n    if (root.Bokeh !== undefined || force === true) {\n      \n    for (var i = 0; i < inline_js.length; i++) {\n      inline_js[i].call(root, root.Bokeh);\n    }\n    if (force === true) {\n        display_loaded();\n      }} else if (Date.now() < root._bokeh_timeout) {\n      setTimeout(run_inline_js, 100);\n    } else if (!root._bokeh_failed_load) {\n      console.log(\"Bokeh: BokehJS failed to load within specified timeout.\");\n      root._bokeh_failed_load = true;\n    } else if (force !== true) {\n      var cell = $(document.getElementById(\"1001\")).parents('.cell').data().cell;\n      cell.output_area.append_execute_result(NB_LOAD_WARNING)\n    }\n\n  }\n\n  if (root._bokeh_is_loading === 0) {\n    console.debug(\"Bokeh: BokehJS loaded, going straight to plotting\");\n    run_inline_js();\n  } else {\n    load_libs(css_urls, js_urls, function() {\n      console.debug(\"Bokeh: BokehJS plotting callback run at\", now());\n      run_inline_js();\n    });\n  }\n}(window));"
     },
     "metadata": {},
     "output_type": "display_data"
    }
   ],
   "source": [
    "import hail as hl\n",
    "\n",
    "hl.stop()\n",
    "hl.init()\n",
    "\n",
    "from hail.plot import show\n",
    "from pprint import pprint\n",
    "hl.plot.output_notebook()"
   ]
  },
  {
   "cell_type": "code",
   "execution_count": 2,
   "id": "c872b557",
   "metadata": {},
   "outputs": [],
   "source": [
    "mt = hl.read_matrix_table('/well/lindgren/barney/outofafr.mt')"
   ]
  },
  {
   "cell_type": "code",
   "execution_count": 3,
   "id": "575dd50f",
   "metadata": {},
   "outputs": [
    {
     "name": "stderr",
     "output_type": "stream",
     "text": [
      "[Stage 0:=====================================================>   (15 + 1) / 16]\r"
     ]
    }
   ],
   "source": [
    "mt = mt.annotate_cols(y = hl.rand_norm(0, 1))\n",
    "mt = mt.annotate_cols(PRS = hl.rand_norm(0, 1))\n",
    "\n",
    "stats = hl.agg.stats(mt.PRS)\n",
    "\n",
    "mean = mt.aggregate_cols(stats.mean)\n",
    "stdev = mt.aggregate_cols(stats.stdev)\n",
    "\n",
    "mt = mt.annotate_cols(PRS_norm = (mt.PRS - mean)/stdev)"
   ]
  },
  {
   "cell_type": "code",
   "execution_count": 4,
   "id": "689701c7",
   "metadata": {},
   "outputs": [
    {
     "data": {
      "text/html": [
       "<table><thead><tr><td style=\"white-space: nowrap; max-width: 500px; overflow: hidden; text-overflow: ellipsis; \" colspan=\"1\"><div style=\"text-align: left;\"></div></td><td style=\"white-space: nowrap; max-width: 500px; overflow: hidden; text-overflow: ellipsis; \" colspan=\"1\"><div style=\"text-align: left;\"></div></td><td style=\"white-space: nowrap; max-width: 500px; overflow: hidden; text-overflow: ellipsis; \" colspan=\"1\"><div style=\"text-align: left;\"></div></td><td style=\"white-space: nowrap; max-width: 500px; overflow: hidden; text-overflow: ellipsis; \" colspan=\"1\"><div style=\"text-align: left;\"></div></td></tr><tr><td style=\"white-space: nowrap; max-width: 500px; overflow: hidden; text-overflow: ellipsis; \" colspan=\"1\"><div style=\"text-align: left;border-bottom: solid 2px #000; padding-bottom: 5px\">s</div></td><td style=\"white-space: nowrap; max-width: 500px; overflow: hidden; text-overflow: ellipsis; \" colspan=\"1\"><div style=\"text-align: left;border-bottom: solid 2px #000; padding-bottom: 5px\">y</div></td><td style=\"white-space: nowrap; max-width: 500px; overflow: hidden; text-overflow: ellipsis; \" colspan=\"1\"><div style=\"text-align: left;border-bottom: solid 2px #000; padding-bottom: 5px\">PRS</div></td><td style=\"white-space: nowrap; max-width: 500px; overflow: hidden; text-overflow: ellipsis; \" colspan=\"1\"><div style=\"text-align: left;border-bottom: solid 2px #000; padding-bottom: 5px\">PRS_norm</div></td></tr><tr><td style=\"white-space: nowrap; max-width: 500px; overflow: hidden; text-overflow: ellipsis; text-align: left;\">str</td><td style=\"white-space: nowrap; max-width: 500px; overflow: hidden; text-overflow: ellipsis; text-align: left;\">float64</td><td style=\"white-space: nowrap; max-width: 500px; overflow: hidden; text-overflow: ellipsis; text-align: left;\">float64</td><td style=\"white-space: nowrap; max-width: 500px; overflow: hidden; text-overflow: ellipsis; text-align: left;\">float64</td></tr>\n",
       "</thead><tbody><tr><td style=\"white-space: nowrap; max-width: 500px; overflow: hidden; text-overflow: ellipsis; \">&quot;tsk_0&quot;</td><td style=\"white-space: nowrap; max-width: 500px; overflow: hidden; text-overflow: ellipsis; \">-1.13e+00</td><td style=\"white-space: nowrap; max-width: 500px; overflow: hidden; text-overflow: ellipsis; \">-3.52e-01</td><td style=\"white-space: nowrap; max-width: 500px; overflow: hidden; text-overflow: ellipsis; \">-3.72e-01</td></tr>\n",
       "<tr><td style=\"white-space: nowrap; max-width: 500px; overflow: hidden; text-overflow: ellipsis; \">&quot;tsk_1&quot;</td><td style=\"white-space: nowrap; max-width: 500px; overflow: hidden; text-overflow: ellipsis; \">1.45e+00</td><td style=\"white-space: nowrap; max-width: 500px; overflow: hidden; text-overflow: ellipsis; \">5.24e-01</td><td style=\"white-space: nowrap; max-width: 500px; overflow: hidden; text-overflow: ellipsis; \">5.09e-01</td></tr>\n",
       "<tr><td style=\"white-space: nowrap; max-width: 500px; overflow: hidden; text-overflow: ellipsis; \">&quot;tsk_2&quot;</td><td style=\"white-space: nowrap; max-width: 500px; overflow: hidden; text-overflow: ellipsis; \">8.49e-01</td><td style=\"white-space: nowrap; max-width: 500px; overflow: hidden; text-overflow: ellipsis; \">1.88e+00</td><td style=\"white-space: nowrap; max-width: 500px; overflow: hidden; text-overflow: ellipsis; \">1.87e+00</td></tr>\n",
       "<tr><td style=\"white-space: nowrap; max-width: 500px; overflow: hidden; text-overflow: ellipsis; \">&quot;tsk_3&quot;</td><td style=\"white-space: nowrap; max-width: 500px; overflow: hidden; text-overflow: ellipsis; \">1.55e+00</td><td style=\"white-space: nowrap; max-width: 500px; overflow: hidden; text-overflow: ellipsis; \">5.92e-01</td><td style=\"white-space: nowrap; max-width: 500px; overflow: hidden; text-overflow: ellipsis; \">5.77e-01</td></tr>\n",
       "<tr><td style=\"white-space: nowrap; max-width: 500px; overflow: hidden; text-overflow: ellipsis; \">&quot;tsk_4&quot;</td><td style=\"white-space: nowrap; max-width: 500px; overflow: hidden; text-overflow: ellipsis; \">-9.60e-02</td><td style=\"white-space: nowrap; max-width: 500px; overflow: hidden; text-overflow: ellipsis; \">-3.54e-01</td><td style=\"white-space: nowrap; max-width: 500px; overflow: hidden; text-overflow: ellipsis; \">-3.74e-01</td></tr>\n",
       "<tr><td style=\"white-space: nowrap; max-width: 500px; overflow: hidden; text-overflow: ellipsis; \">&quot;tsk_5&quot;</td><td style=\"white-space: nowrap; max-width: 500px; overflow: hidden; text-overflow: ellipsis; \">-9.17e-01</td><td style=\"white-space: nowrap; max-width: 500px; overflow: hidden; text-overflow: ellipsis; \">9.91e-01</td><td style=\"white-space: nowrap; max-width: 500px; overflow: hidden; text-overflow: ellipsis; \">9.77e-01</td></tr>\n",
       "<tr><td style=\"white-space: nowrap; max-width: 500px; overflow: hidden; text-overflow: ellipsis; \">&quot;tsk_6&quot;</td><td style=\"white-space: nowrap; max-width: 500px; overflow: hidden; text-overflow: ellipsis; \">3.14e-01</td><td style=\"white-space: nowrap; max-width: 500px; overflow: hidden; text-overflow: ellipsis; \">-6.72e-01</td><td style=\"white-space: nowrap; max-width: 500px; overflow: hidden; text-overflow: ellipsis; \">-6.93e-01</td></tr>\n",
       "<tr><td style=\"white-space: nowrap; max-width: 500px; overflow: hidden; text-overflow: ellipsis; \">&quot;tsk_7&quot;</td><td style=\"white-space: nowrap; max-width: 500px; overflow: hidden; text-overflow: ellipsis; \">2.44e+00</td><td style=\"white-space: nowrap; max-width: 500px; overflow: hidden; text-overflow: ellipsis; \">-6.80e-01</td><td style=\"white-space: nowrap; max-width: 500px; overflow: hidden; text-overflow: ellipsis; \">-7.01e-01</td></tr>\n",
       "<tr><td style=\"white-space: nowrap; max-width: 500px; overflow: hidden; text-overflow: ellipsis; \">&quot;tsk_8&quot;</td><td style=\"white-space: nowrap; max-width: 500px; overflow: hidden; text-overflow: ellipsis; \">-7.82e-02</td><td style=\"white-space: nowrap; max-width: 500px; overflow: hidden; text-overflow: ellipsis; \">6.85e-01</td><td style=\"white-space: nowrap; max-width: 500px; overflow: hidden; text-overflow: ellipsis; \">6.70e-01</td></tr>\n",
       "<tr><td style=\"white-space: nowrap; max-width: 500px; overflow: hidden; text-overflow: ellipsis; \">&quot;tsk_9&quot;</td><td style=\"white-space: nowrap; max-width: 500px; overflow: hidden; text-overflow: ellipsis; \">-9.13e-01</td><td style=\"white-space: nowrap; max-width: 500px; overflow: hidden; text-overflow: ellipsis; \">-8.96e-01</td><td style=\"white-space: nowrap; max-width: 500px; overflow: hidden; text-overflow: ellipsis; \">-9.18e-01</td></tr>\n",
       "</tbody></table><p style=\"background: #fdd; padding: 0.4em;\">showing top 10 rows</p>\n"
      ],
      "text/plain": [
       "+---------+-----------+-----------+-----------+\n",
       "| s       |         y |       PRS |  PRS_norm |\n",
       "+---------+-----------+-----------+-----------+\n",
       "| str     |   float64 |   float64 |   float64 |\n",
       "+---------+-----------+-----------+-----------+\n",
       "| \"tsk_0\" | -1.13e+00 | -3.52e-01 | -3.72e-01 |\n",
       "| \"tsk_1\" |  1.45e+00 |  5.24e-01 |  5.09e-01 |\n",
       "| \"tsk_2\" |  8.49e-01 |  1.88e+00 |  1.87e+00 |\n",
       "| \"tsk_3\" |  1.55e+00 |  5.92e-01 |  5.77e-01 |\n",
       "| \"tsk_4\" | -9.60e-02 | -3.54e-01 | -3.74e-01 |\n",
       "| \"tsk_5\" | -9.17e-01 |  9.91e-01 |  9.77e-01 |\n",
       "| \"tsk_6\" |  3.14e-01 | -6.72e-01 | -6.93e-01 |\n",
       "| \"tsk_7\" |  2.44e+00 | -6.80e-01 | -7.01e-01 |\n",
       "| \"tsk_8\" | -7.82e-02 |  6.85e-01 |  6.70e-01 |\n",
       "| \"tsk_9\" | -9.13e-01 | -8.96e-01 | -9.18e-01 |\n",
       "+---------+-----------+-----------+-----------+\n",
       "showing top 10 rows"
      ]
     },
     "metadata": {},
     "output_type": "display_data"
    }
   ],
   "source": [
    "mt.col.show()"
   ]
  },
  {
   "cell_type": "code",
   "execution_count": 5,
   "id": "ec987d29",
   "metadata": {},
   "outputs": [
    {
     "data": {
      "text/plain": [
       "Struct(mean=7.105427357601002e-19, stdev=1.0000000000000002, min=-3.6056087606533924, max=4.3437838019710675, n=10000, sum=7.105427357601002e-15)"
      ]
     },
     "execution_count": 5,
     "metadata": {},
     "output_type": "execute_result"
    }
   ],
   "source": [
    "mt.aggregate_cols(hl.agg.stats(mt.PRS_norm))"
   ]
  },
  {
   "cell_type": "code",
   "execution_count": 6,
   "id": "3954f5fd",
   "metadata": {},
   "outputs": [],
   "source": [
    "mt = hl.experimental.ldscsim.normalize_genotypes(mt.GT)"
   ]
  },
  {
   "cell_type": "code",
   "execution_count": 7,
   "id": "fbced5c4",
   "metadata": {},
   "outputs": [],
   "source": [
    "mt = mt.annotate_entries(mult=mt.norm_gt * mt.PRS)"
   ]
  },
  {
   "cell_type": "code",
   "execution_count": 20,
   "id": "bbd45602",
   "metadata": {},
   "outputs": [
    {
     "data": {
      "text/html": [
       "<table><thead><tr><td style=\"white-space: nowrap; max-width: 500px; overflow: hidden; text-overflow: ellipsis; \" colspan=\"1\"><div style=\"text-align: left;\"></div></td><td style=\"white-space: nowrap; max-width: 500px; overflow: hidden; text-overflow: ellipsis; \" colspan=\"1\"><div style=\"text-align: left;\"></div></td><td style=\"white-space: nowrap; max-width: 500px; overflow: hidden; text-overflow: ellipsis; \" colspan=\"1\"><div style=\"text-align: left;\"></div></td><td style=\"white-space: nowrap; max-width: 500px; overflow: hidden; text-overflow: ellipsis; \" colspan=\"1\"><div style=\"text-align: left;\"></div></td><td style=\"white-space: nowrap; max-width: 500px; overflow: hidden; text-overflow: ellipsis; \" colspan=\"1\"><div style=\"text-align: left;\"></div></td></tr><tr><td style=\"white-space: nowrap; max-width: 500px; overflow: hidden; text-overflow: ellipsis; \" colspan=\"1\"><div style=\"text-align: left;\"></div></td><td style=\"white-space: nowrap; max-width: 500px; overflow: hidden; text-overflow: ellipsis; \" colspan=\"1\"><div style=\"text-align: left;\"></div></td><td style=\"white-space: nowrap; max-width: 500px; overflow: hidden; text-overflow: ellipsis; \" colspan=\"1\"><div style=\"text-align: left;border-bottom: solid 2px #000; padding-bottom: 5px\">'tsk_0'</div></td><td style=\"white-space: nowrap; max-width: 500px; overflow: hidden; text-overflow: ellipsis; \" colspan=\"1\"><div style=\"text-align: left;border-bottom: solid 2px #000; padding-bottom: 5px\">'tsk_1'</div></td><td style=\"white-space: nowrap; max-width: 500px; overflow: hidden; text-overflow: ellipsis; \" colspan=\"1\"><div style=\"text-align: left;border-bottom: solid 2px #000; padding-bottom: 5px\">'tsk_2'</div></td></tr><tr><td style=\"white-space: nowrap; max-width: 500px; overflow: hidden; text-overflow: ellipsis; \" colspan=\"1\"><div style=\"text-align: left;border-bottom: solid 2px #000; padding-bottom: 5px\">locus</div></td><td style=\"white-space: nowrap; max-width: 500px; overflow: hidden; text-overflow: ellipsis; \" colspan=\"1\"><div style=\"text-align: left;border-bottom: solid 2px #000; padding-bottom: 5px\">alleles</div></td><td style=\"white-space: nowrap; max-width: 500px; overflow: hidden; text-overflow: ellipsis; \" colspan=\"1\"><div style=\"text-align: left;border-bottom: solid 2px #000; padding-bottom: 5px\">mult</div></td><td style=\"white-space: nowrap; max-width: 500px; overflow: hidden; text-overflow: ellipsis; \" colspan=\"1\"><div style=\"text-align: left;border-bottom: solid 2px #000; padding-bottom: 5px\">mult</div></td><td style=\"white-space: nowrap; max-width: 500px; overflow: hidden; text-overflow: ellipsis; \" colspan=\"1\"><div style=\"text-align: left;border-bottom: solid 2px #000; padding-bottom: 5px\">mult</div></td></tr><tr><td style=\"white-space: nowrap; max-width: 500px; overflow: hidden; text-overflow: ellipsis; text-align: left;\">locus&lt;GRCh38&gt;</td><td style=\"white-space: nowrap; max-width: 500px; overflow: hidden; text-overflow: ellipsis; text-align: left;\">array&lt;str&gt;</td><td style=\"white-space: nowrap; max-width: 500px; overflow: hidden; text-overflow: ellipsis; text-align: left;\">float64</td><td style=\"white-space: nowrap; max-width: 500px; overflow: hidden; text-overflow: ellipsis; text-align: left;\">float64</td><td style=\"white-space: nowrap; max-width: 500px; overflow: hidden; text-overflow: ellipsis; text-align: left;\">float64</td></tr>\n",
       "</thead><tbody><tr><td style=\"white-space: nowrap; max-width: 500px; overflow: hidden; text-overflow: ellipsis; \">chr2:34</td><td style=\"white-space: nowrap; max-width: 500px; overflow: hidden; text-overflow: ellipsis; \">[&quot;A&quot;,&quot;G&quot;]</td><td style=\"white-space: nowrap; max-width: 500px; overflow: hidden; text-overflow: ellipsis; \">3.52e-03</td><td style=\"white-space: nowrap; max-width: 500px; overflow: hidden; text-overflow: ellipsis; \">-5.24e-03</td><td style=\"white-space: nowrap; max-width: 500px; overflow: hidden; text-overflow: ellipsis; \">-1.88e-02</td></tr>\n",
       "<tr><td style=\"white-space: nowrap; max-width: 500px; overflow: hidden; text-overflow: ellipsis; \">chr2:100</td><td style=\"white-space: nowrap; max-width: 500px; overflow: hidden; text-overflow: ellipsis; \">[&quot;T&quot;,&quot;A&quot;]</td><td style=\"white-space: nowrap; max-width: 500px; overflow: hidden; text-overflow: ellipsis; \">6.11e-03</td><td style=\"white-space: nowrap; max-width: 500px; overflow: hidden; text-overflow: ellipsis; \">-9.08e-03</td><td style=\"white-space: nowrap; max-width: 500px; overflow: hidden; text-overflow: ellipsis; \">-3.25e-02</td></tr>\n",
       "<tr><td style=\"white-space: nowrap; max-width: 500px; overflow: hidden; text-overflow: ellipsis; \">chr2:167</td><td style=\"white-space: nowrap; max-width: 500px; overflow: hidden; text-overflow: ellipsis; \">[&quot;C&quot;,&quot;A&quot;]</td><td style=\"white-space: nowrap; max-width: 500px; overflow: hidden; text-overflow: ellipsis; \">3.52e-03</td><td style=\"white-space: nowrap; max-width: 500px; overflow: hidden; text-overflow: ellipsis; \">-5.24e-03</td><td style=\"white-space: nowrap; max-width: 500px; overflow: hidden; text-overflow: ellipsis; \">-1.88e-02</td></tr>\n",
       "<tr><td style=\"white-space: nowrap; max-width: 500px; overflow: hidden; text-overflow: ellipsis; \">chr2:182</td><td style=\"white-space: nowrap; max-width: 500px; overflow: hidden; text-overflow: ellipsis; \">[&quot;T&quot;,&quot;C&quot;]</td><td style=\"white-space: nowrap; max-width: 500px; overflow: hidden; text-overflow: ellipsis; \">2.40e-02</td><td style=\"white-space: nowrap; max-width: 500px; overflow: hidden; text-overflow: ellipsis; \">-3.56e-02</td><td style=\"white-space: nowrap; max-width: 500px; overflow: hidden; text-overflow: ellipsis; \">-1.28e-01</td></tr>\n",
       "<tr><td style=\"white-space: nowrap; max-width: 500px; overflow: hidden; text-overflow: ellipsis; \">chr2:210</td><td style=\"white-space: nowrap; max-width: 500px; overflow: hidden; text-overflow: ellipsis; \">[&quot;C&quot;,&quot;T&quot;]</td><td style=\"white-space: nowrap; max-width: 500px; overflow: hidden; text-overflow: ellipsis; \">8.64e-03</td><td style=\"white-space: nowrap; max-width: 500px; overflow: hidden; text-overflow: ellipsis; \">-1.28e-02</td><td style=\"white-space: nowrap; max-width: 500px; overflow: hidden; text-overflow: ellipsis; \">-4.60e-02</td></tr>\n",
       "<tr><td style=\"white-space: nowrap; max-width: 500px; overflow: hidden; text-overflow: ellipsis; \">chr2:219</td><td style=\"white-space: nowrap; max-width: 500px; overflow: hidden; text-overflow: ellipsis; \">[&quot;G&quot;,&quot;C&quot;]</td><td style=\"white-space: nowrap; max-width: 500px; overflow: hidden; text-overflow: ellipsis; \">7.05e-03</td><td style=\"white-space: nowrap; max-width: 500px; overflow: hidden; text-overflow: ellipsis; \">-1.05e-02</td><td style=\"white-space: nowrap; max-width: 500px; overflow: hidden; text-overflow: ellipsis; \">-3.75e-02</td></tr>\n",
       "<tr><td style=\"white-space: nowrap; max-width: 500px; overflow: hidden; text-overflow: ellipsis; \">chr2:299</td><td style=\"white-space: nowrap; max-width: 500px; overflow: hidden; text-overflow: ellipsis; \">[&quot;G&quot;,&quot;C&quot;]</td><td style=\"white-space: nowrap; max-width: 500px; overflow: hidden; text-overflow: ellipsis; \">3.52e-03</td><td style=\"white-space: nowrap; max-width: 500px; overflow: hidden; text-overflow: ellipsis; \">-5.24e-03</td><td style=\"white-space: nowrap; max-width: 500px; overflow: hidden; text-overflow: ellipsis; \">-1.88e-02</td></tr>\n",
       "<tr><td style=\"white-space: nowrap; max-width: 500px; overflow: hidden; text-overflow: ellipsis; \">chr2:428</td><td style=\"white-space: nowrap; max-width: 500px; overflow: hidden; text-overflow: ellipsis; \">[&quot;T&quot;,&quot;A&quot;]</td><td style=\"white-space: nowrap; max-width: 500px; overflow: hidden; text-overflow: ellipsis; \">4.99e-03</td><td style=\"white-space: nowrap; max-width: 500px; overflow: hidden; text-overflow: ellipsis; \">-7.42e-03</td><td style=\"white-space: nowrap; max-width: 500px; overflow: hidden; text-overflow: ellipsis; \">-2.65e-02</td></tr>\n",
       "<tr><td style=\"white-space: nowrap; max-width: 500px; overflow: hidden; text-overflow: ellipsis; \">chr2:493</td><td style=\"white-space: nowrap; max-width: 500px; overflow: hidden; text-overflow: ellipsis; \">[&quot;T&quot;,&quot;C&quot;]</td><td style=\"white-space: nowrap; max-width: 500px; overflow: hidden; text-overflow: ellipsis; \">4.99e-03</td><td style=\"white-space: nowrap; max-width: 500px; overflow: hidden; text-overflow: ellipsis; \">-7.42e-03</td><td style=\"white-space: nowrap; max-width: 500px; overflow: hidden; text-overflow: ellipsis; \">-2.65e-02</td></tr>\n",
       "<tr><td style=\"white-space: nowrap; max-width: 500px; overflow: hidden; text-overflow: ellipsis; \">chr2:498</td><td style=\"white-space: nowrap; max-width: 500px; overflow: hidden; text-overflow: ellipsis; \">[&quot;G&quot;,&quot;C&quot;]</td><td style=\"white-space: nowrap; max-width: 500px; overflow: hidden; text-overflow: ellipsis; \">4.99e-03</td><td style=\"white-space: nowrap; max-width: 500px; overflow: hidden; text-overflow: ellipsis; \">-7.42e-03</td><td style=\"white-space: nowrap; max-width: 500px; overflow: hidden; text-overflow: ellipsis; \">-2.65e-02</td></tr>\n",
       "</tbody></table><p style=\"background: #fdd; padding: 0.4em;\">showing top 10 rows</p>\n",
       "<p style=\"background: #fdd; padding: 0.4em;\">showing the first 3 of 10000 columns</p>\n"
      ],
      "text/plain": [
       "+---------------+------------+--------------+--------------+--------------+\n",
       "| locus         | alleles    | 'tsk_0'.mult | 'tsk_1'.mult | 'tsk_2'.mult |\n",
       "+---------------+------------+--------------+--------------+--------------+\n",
       "| locus<GRCh38> | array<str> |      float64 |      float64 |      float64 |\n",
       "+---------------+------------+--------------+--------------+--------------+\n",
       "| chr2:34       | [\"A\",\"G\"]  |     3.52e-03 |    -5.24e-03 |    -1.88e-02 |\n",
       "| chr2:100      | [\"T\",\"A\"]  |     6.11e-03 |    -9.08e-03 |    -3.25e-02 |\n",
       "| chr2:167      | [\"C\",\"A\"]  |     3.52e-03 |    -5.24e-03 |    -1.88e-02 |\n",
       "| chr2:182      | [\"T\",\"C\"]  |     2.40e-02 |    -3.56e-02 |    -1.28e-01 |\n",
       "| chr2:210      | [\"C\",\"T\"]  |     8.64e-03 |    -1.28e-02 |    -4.60e-02 |\n",
       "| chr2:219      | [\"G\",\"C\"]  |     7.05e-03 |    -1.05e-02 |    -3.75e-02 |\n",
       "| chr2:299      | [\"G\",\"C\"]  |     3.52e-03 |    -5.24e-03 |    -1.88e-02 |\n",
       "| chr2:428      | [\"T\",\"A\"]  |     4.99e-03 |    -7.42e-03 |    -2.65e-02 |\n",
       "| chr2:493      | [\"T\",\"C\"]  |     4.99e-03 |    -7.42e-03 |    -2.65e-02 |\n",
       "| chr2:498      | [\"G\",\"C\"]  |     4.99e-03 |    -7.42e-03 |    -2.65e-02 |\n",
       "+---------------+------------+--------------+--------------+--------------+\n",
       "showing top 10 rows\n",
       "showing the first 3 of 10000 columns"
      ]
     },
     "metadata": {},
     "output_type": "display_data"
    }
   ],
   "source": [
    "mt.mult.show()"
   ]
  },
  {
   "cell_type": "code",
   "execution_count": 8,
   "id": "2cbb0974",
   "metadata": {},
   "outputs": [
    {
     "name": "stderr",
     "output_type": "stream",
     "text": [
      "2022-09-28 10:43:05 Hail: INFO: linear_regression_rows: running on 10000 samples for 1 response variable y,\n",
      "    with input variable x, and 1 additional covariate...\n"
     ]
    },
    {
     "name": "stdout",
     "output_type": "stream",
     "text": [
      "--------------------------------------------------------\n",
      "Type:\n",
      "        struct {\n",
      "        locus: locus<GRCh38>, \n",
      "        alleles: array<str>, \n",
      "        n: int32, \n",
      "        sum_x: float64, \n",
      "        y_transpose_x: float64, \n",
      "        beta: float64, \n",
      "        standard_error: float64, \n",
      "        t_stat: float64, \n",
      "        p_value: float64\n",
      "    }\n",
      "--------------------------------------------------------\n",
      "Source:\n",
      "    <hail.table.Table object at 0x7f6cb9fdc9d0>\n",
      "Index:\n",
      "    ['row']\n",
      "--------------------------------------------------------\n"
     ]
    }
   ],
   "source": [
    "gwas = hl.linear_regression_rows(y=mt.y,\n",
    "                                 x=mt.mult,\n",
    "                                 covariates=[1.0])\n",
    "gwas.row.describe()"
   ]
  },
  {
   "cell_type": "code",
   "execution_count": 9,
   "id": "5f06e9ad",
   "metadata": {},
   "outputs": [
    {
     "name": "stderr",
     "output_type": "stream",
     "text": [
      "2022-09-28 10:43:13 Hail: INFO: Ordering unsorted dataset with network shuffle1]\n"
     ]
    },
    {
     "data": {
      "text/html": [
       "\n",
       "\n",
       "\n",
       "\n",
       "\n",
       "\n",
       "  <div class=\"bk-root\" id=\"0bcbdccc-871e-4c78-9cb3-09271fd8d238\" data-root-id=\"1002\"></div>\n"
      ]
     },
     "metadata": {},
     "output_type": "display_data"
    },
    {
     "data": {
      "application/javascript": [
       "(function(root) {\n",
       "  function embed_document(root) {\n",
       "    \n",
       "  var docs_json = {\"589b2498-0b57-451d-8650-2e4990462bf5\":{\"roots\":{\"references\":[{\"attributes\":{\"below\":[{\"id\":\"1013\",\"type\":\"LinearAxis\"}],\"center\":[{\"id\":\"1017\",\"type\":\"Grid\"},{\"id\":\"1022\",\"type\":\"Grid\"},{\"id\":\"1046\",\"type\":\"Slope\"},{\"id\":\"1047\",\"type\":\"Label\"}],\"left\":[{\"id\":\"1018\",\"type\":\"LinearAxis\"}],\"plot_height\":800,\"plot_width\":800,\"renderers\":[{\"id\":\"1042\",\"type\":\"GlyphRenderer\"}],\"title\":{\"id\":\"1003\",\"type\":\"Title\"},\"toolbar\":{\"id\":\"1029\",\"type\":\"Toolbar\"},\"x_range\":{\"id\":\"1044\",\"type\":\"DataRange1d\"},\"x_scale\":{\"id\":\"1009\",\"type\":\"LinearScale\"},\"y_range\":{\"id\":\"1045\",\"type\":\"DataRange1d\"},\"y_scale\":{\"id\":\"1011\",\"type\":\"LinearScale\"}},\"id\":\"1002\",\"subtype\":\"Figure\",\"type\":\"Plot\"},{\"attributes\":{\"source\":{\"id\":\"1038\",\"type\":\"ColumnDataSource\"}},\"id\":\"1043\",\"type\":\"CDSView\"},{\"attributes\":{},\"id\":\"1009\",\"type\":\"LinearScale\"},{\"attributes\":{\"axis_label\":\"Observed -log10(p)\",\"formatter\":{\"id\":\"1050\",\"type\":\"BasicTickFormatter\"},\"ticker\":{\"id\":\"1019\",\"type\":\"BasicTicker\"}},\"id\":\"1018\",\"type\":\"LinearAxis\"},{\"attributes\":{},\"id\":\"1027\",\"type\":\"ResetTool\"},{\"attributes\":{\"ticker\":{\"id\":\"1014\",\"type\":\"BasicTicker\"}},\"id\":\"1017\",\"type\":\"Grid\"},{\"attributes\":{},\"id\":\"1011\",\"type\":\"LinearScale\"},{\"attributes\":{},\"id\":\"1014\",\"type\":\"BasicTicker\"},{\"attributes\":{},\"id\":\"1024\",\"type\":\"WheelZoomTool\"},{\"attributes\":{},\"id\":\"1028\",\"type\":\"HelpTool\"},{\"attributes\":{\"fill_color\":{\"value\":\"#1f77b4\"},\"line_color\":{\"value\":\"#1f77b4\"},\"size\":{\"units\":\"screen\",\"value\":6},\"x\":{\"field\":\"x\"},\"y\":{\"field\":\"y\"}},\"id\":\"1040\",\"type\":\"Circle\"},{\"attributes\":{\"axis_label\":\"Expected -log10(p)\",\"formatter\":{\"id\":\"1052\",\"type\":\"BasicTickFormatter\"},\"ticker\":{\"id\":\"1014\",\"type\":\"BasicTicker\"}},\"id\":\"1013\",\"type\":\"LinearAxis\"},{\"attributes\":{\"dimension\":1,\"ticker\":{\"id\":\"1019\",\"type\":\"BasicTicker\"}},\"id\":\"1022\",\"type\":\"Grid\"},{\"attributes\":{},\"id\":\"1050\",\"type\":\"BasicTickFormatter\"},{\"attributes\":{\"bottom_units\":\"screen\",\"fill_alpha\":{\"value\":0.5},\"fill_color\":{\"value\":\"lightgrey\"},\"left_units\":\"screen\",\"level\":\"overlay\",\"line_alpha\":{\"value\":1.0},\"line_color\":{\"value\":\"black\"},\"line_dash\":[4,4],\"line_width\":{\"value\":2},\"render_mode\":\"css\",\"right_units\":\"screen\",\"top_units\":\"screen\"},\"id\":\"1053\",\"type\":\"BoxAnnotation\"},{\"attributes\":{\"data_source\":{\"id\":\"1038\",\"type\":\"ColumnDataSource\"},\"glyph\":{\"id\":\"1040\",\"type\":\"Circle\"},\"hover_glyph\":null,\"muted_glyph\":null,\"nonselection_glyph\":{\"id\":\"1041\",\"type\":\"Circle\"},\"selection_glyph\":null,\"view\":{\"id\":\"1043\",\"type\":\"CDSView\"}},\"id\":\"1042\",\"type\":\"GlyphRenderer\"},{\"attributes\":{\"fill_alpha\":{\"value\":0.1},\"fill_color\":{\"value\":\"#1f77b4\"},\"line_alpha\":{\"value\":0.1},\"line_color\":{\"value\":\"#1f77b4\"},\"size\":{\"units\":\"screen\",\"value\":6},\"x\":{\"field\":\"x\"},\"y\":{\"field\":\"y\"}},\"id\":\"1041\",\"type\":\"Circle\"},{\"attributes\":{},\"id\":\"1054\",\"type\":\"Selection\"},{\"attributes\":{},\"id\":\"1055\",\"type\":\"UnionRenderers\"},{\"attributes\":{\"text\":\"Q-Q plot\"},\"id\":\"1003\",\"type\":\"Title\"},{\"attributes\":{\"callback\":null,\"end\":4.985384984417326,\"start\":0},\"id\":\"1045\",\"type\":\"DataRange1d\"},{\"attributes\":{\"callback\":null,\"end\":4.985384984417326,\"start\":0},\"id\":\"1044\",\"type\":\"DataRange1d\"},{\"attributes\":{},\"id\":\"1052\",\"type\":\"BasicTickFormatter\"},{\"attributes\":{\"callback\":null,\"tooltips\":[[\"x\",\"@x\"],[\"y\",\"@y\"],[\"p_value\",\"@p_value\"]]},\"id\":\"1037\",\"type\":\"HoverTool\"},{\"attributes\":{\"callback\":null,\"data\":{\"index\":[0,1,2,3,4,5,6,7,8,9,10,11,12,13,14,15,16,17,18,19,20,21,22,23,24,25,26,27,28,29,30,31,32,33,34,35,36,37,38,39,40,41,42,43,44,45,46,47,48,49,50,51,52,53,54,55,56,57,58,59,60,61,62,63,64,65,66,67,68,69,70,71,72,73,74,75,76,77,78,79,80,81,82,83,84,85,86,87,88,89,90,91,92,93,94,95,96,97,98,99,100,101,102,103,104,105,106,107,108,109,110,111,112,113,114,115,116,117,118,119,120,121,122,123,124,125,126,127,128,129,130,131,132,133,134,135,136,137,138,139,140,141,142,143,144,145,146,147,148,149,150,151,152,153,154,155,156,157,158,159,160,161,162,163,164,165,166,167,168,169,170,171,172,173,174,175,176,177,178,179,180,181,182,183,184,185,186,187,188,189,190,191,192,193,194,195,196,197,198,199,200,201,202,203,204,205,206,207,208,209,210,211,212,213,214,215,216,217,218,219,220,221,222,223,224,225,226,227,228,229,230,231,232,233,234,235,236,237,238,239,240,241,242,243,244,245,246,247,248,249,250,251,252,253,254,255,256,257,258,259,260,261,262,263,264,265,266,267,268,269,270,271,272,273,274,275,276,277,278,279,280,281,282,283,284,285,286,287,288,289,290,291,292,293,294,295,296,297,298,299,300,301,302,303,304,305,306,307,308,309,310,311,312,313,314,315,316,317,318,319,320,321,322,323,324,325,326,327,328,329,330,331,332,333,334,335,336,337,338,339,340,341,342,343,344,345,346,347,348,349,350,351,352,353,354,355,356,357,358,359,360,361,362,363,364,365,366,367,368,369,370,371,372,373,374,375,376,377,378,379,380,381,382,383,384,385,386,387,388,389,390,391,392,393,394,395,396,397,398,399,400,401,402,403,404,405,406,407,408,409,410,411,412,413,414,415,416,417,418,419,420,421,422,423,424,425,426,427,428,429,430,431,432,433,434,435,436,437,438,439,440,441,442,443,444,445,446,447,448,449,450,451,452,453,454,455,456,457,458,459,460,461,462,463,464,465,466,467,468,469,470,471,472,473,474,475,476,477,478,479,480,481,482,483,484,485,486,487,488,489,490,491,492,493,494,495,496,497,498,499,500,501,502,503,504,505,506,507,508,509,510,511,512,513,514,515,516,517,518,519,520,521,522,523,524,525,526,527,528,529],\"p_value\":{\"__ndarray__\":\"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\",\"dtype\":\"float64\",\"shape\":[530]},\"x\":{\"__ndarray__\":\"9Bt7rOv1fT9MiyPHW09/P420y3HifY4/Kd/Dr89Qjz/nZLtsGX2XP4Xq8eFz+pc/F7mgEkpRnz8BSgbFgnqgPyFoAsQnkqM/nSN72IPXpD+z7w1Ou3qnP0K4c1wRqqk/5ZD0fJtrqz9lRr4OTJutPw/Mv7lcUa8/JumrlkgysT+TElc/fJ+xP9cV+fI0lbM/ETPEu4r1sz/lXzNvoIm1P2YfIri0CrY/jxfmN8KBtz9bl8aaOhq4PwlvdxD4crk/T4L4pN0Yuj+r3xoaBW27Pw781VtMJrw/tiZ6yqRfvT+7MhYKnT2+P1l0XEaIVb8/9t6u7uUYwD91k0AEfaTAP6mRpEqxEcE/wIOBxMGfwT9GCM51iyDCPzK211STnMI/WbxgeMcBwz9vDKfJ6JTDP0fSDOSGJsQ/3IJSWaeRxD+KyUbs5CXFP200dXm2jMU/VHyfWUkdxj8MUdkt6oXGP+Tbqgr4X8c/v5t3wlGAxz9Qm3JPRl7IP1E0Wobpe8g/h3gNclJ1yT9IGlPsop3JP4dEjTDEb8o/aORHLdtZyz++H5S5OGvLP0Kc+skNXcw/GwwAgKlnzD9Nln2wdWHNPycrixlDrc0/eWmiWQ5czj90+ESk5KzOPyBBwCVqV88/qPD/tXKezz+Vuzq62SfQPwsg9CclNdA/oxRKtzKm0D+xo+qkOsPQP+ZOEMflItE/5tzjfLss0T/AN85J0qHRP+LLZZzSo9E/Wctukuca0j+skk/0+R7SP7O86ZdMnNI/O/TDnNKq0j+D0mFRwhnTPzWH3agyRtM/uaXQx1KX0z/mnwSJjuvTP/ccNsvFEtQ/2ozc6Pt31D+bwY7LZpDUPxxZumt1ANU/72eXXwYO1T+LTOroZILVP1KMYiiai9U/WDc/xGD91T9Co5o5FwnWPxOBnHFKf9Y/zrm+FHKG1j9/Rm2kngPXP2V1TqE0Etc/VPnEN5CA1z+CwqGA7ozXP0IYt369/9c/h8DuymsW2D+pj83cG3zYP55zraTsrNg/RHuDhBX42D8E0IsUrkbZP6Yly/dBdtk/nS3K89ew2T9knbZeAvTZP7TWjeSkL9o/FgkhhEZx2j8P2/JwZcHaPy3Ionb97do/CCwLtLBN2z+TF+v/7WzbP1WQSXRRt9s/47/adWHo2z+wz8NcukLcP+0x0uwCZtw/viOykObf3D9O++tY5uLcP4MF+fUEYt0/8CUgp5+A3T99i0CVV+DdP0Oev4Ss6d0/UqLDlshd3j+DTazQnm3eP/vjjXpB2t4/CHzVQfEa3z/s/iDgqlXfP+6XxYRbq98/o/j26kHT3z8zhO5SnhjgP/fho1KNKeA/jU0hSYZS4D8RXn1qMGfgPyMPjFJzf+A/8VyNtOml4D+MuPTgBMvgP+aKNy3D5eA/Tf/ERzoY4T93M9GpIiPhPzK1pLXhXeE/z7hP8pVh4T8cScrhJqHhP+mIXcnQpuE/zgGqNvTf4T9gFOL53vzhP6OpVSnuHeI/RPj9cQRb4j/ESGpnAV3iP0XtQekbk+I/Qvu+3jGb4j+Y36eVfdriPzHX3LAm7+I/P2gu89UY4z/Ctc3tTjbjPyKHc/9KWOM/0RHf3thv4z/xjcXdupbjP6B6CDDJo+M/jVKlYhLU4z9SGbETtdrjP9Fb5lC9FOQ/T8jVTh0y5D+N3JjOBVLkP4U3ApgSh+Q/GLzZR2GQ5D/M432M2c/kP89wle/41uQ/f9NXCtMG5T+S/6/ZDg7lP9QZLowCRuU/da3okl9N5T8Akh2d14PlPwG057hVi+U/s6SosoKu5T/E2oQHZcrlP9yAIPZY8+U/2IZLiAAI5j/vOqSqrDHmP88NLvaxRuY/pd1j/nVm5j8ASs9Jg4bmPw/YtQ0JwuY/0xQLxsPE5j/O5icVIATnP8nuo++iJec/nZiiOs5B5z/KO0eS0FLnPxO2BfeSgOc/TTHrIZOa5z+i1y1MeMDnP82sjpO86ec/UGNyBo3+5z/fm+mqhCLoP0EplwG8Peg/thr0Jn1o6D/RENh++HroP6zn5o85oOg/D0oLi0e56D9aOt95bLzoP7vsKPCy+Og/0D+3AWMS6T/wu50ARTnpP90U9tKYSek/9oiyard36T9ROcudqovpP71cIL7ns+k/6uMmdvzO6T+NCnHxj/TpP+ONxkdTAuo/F+qxausy6j+2MUrTb0TqP8sRVq9jcuo/hyv2AzmE6j/JRAIXZK/qPw0VFRgDs+o/EsUjNRnm6j+Qqi3vdO3qP18TV0BlIes/ZISa5J8s6z8wvtiOGlbrP8MIXSrvbOs/SmHqTVCT6z/YtCOriqrrPx6SCiZ12es/zjsGGTzp6z/OLnKJ/RjsP/93p2wNKew/Me4cyJlV7D8RdJF78GXsP91BsfTXhuw/rVDP8uKj7D9GKXB3+LzsP8CH9HDu4uw/Hn7NLXf87D8T5N0ZHSPtP0xfw0QdPe0/0WW2ghRg7T9x4tkmiHrtP4n0Bgscnu0/Re/W9ZSi7T+eZjdbPd3tP/p2Wh/q6u0/0D6woYId7j/xqFTickfuP6U4uno/Wu4/BZTmZAqY7j/3XiJ2m77uP9SPZuzs1u4/dGo4O2nv7j9Ffl4h8RbvP/Eo46XfL+8/qc6RoSFY7z/s/bpgoHbvP9w9cJ5ile8/DvCb5Div7z+ajoiNP8nvP+/381K20+8/Us1Z0z8E8D98q6NFkwnwP46CCRUoJ/A/ekkZzt4p8D9H7AKJ/0fwP2BaVCWlZvA/KVfOQUZs8D93A8lL1IXwP3/CKu+Oi/A/+Dv25JGl8D/27EvTe6jwP+Y07x3jxfA/AiVsOMnR8D/4F2rsyOPwPzPydWDa7PA/GI569RH88D98xheSMQLxP1ZSG5whIfE/MG4bPkEk8T+Hg62ZqC3xP6HFMsLLQ/E/ZpFYFZJQ8T/3IYJLq2DxP+hJx1JPgfE/owZrUziL8T/5LEIhNZ/xP2gjB46orPE/EESJAgfB8T+XOZ/rccTxP1dn89CN3PE/aDZEYgbg8T8Q9C8Y+u3xP/VCr32S//E/+DZagBcc8j93UdRWbTXyP+len4e7PPI/FpYI4yBP8j9DAmwOQlryP5g9lBsSfPI/WAniN9KW8j8lDx37rJryP+y4uSlKpvI/U0ihA9G58j+/4HcYg9nyPweNNveo8fI/Vk4TYcj58j9gXG5pCQbzP/DX7gWCFvM/I/PfD4Ev8z9fccA26jfzPxeeJ29jUfM/jEz/cKtV8z9Q+lNA7nPzP+ZLWy8ol/M/xFir2RKg8z97dV0UkLbzP/Hsxjru0fM/2gIOeYjW8z9VaYetZvLzP6wYe6cW9/M/usqzrnkT9D+CKJsGCh30P/sNOY9SMPQ/9xiQGS019D/nYDNklFL0P5isPSCHV/Q/+EOuMnpw9D8YFjPjnX/0P33yW9jijvQ/V35f4tKt9D/OrDfOQbj0P0czuxtPzfQ/N4J4dZzS9D/4TcaRXO30Pyjo9aLC8vQ/6XULmQAO9T8+ymNMgBP1P43f7gWrKfU/5Vpz8XFL9T+YZeMxI1H1P1ggTkkXaPU/qDe2O+Bt9T/WzQ8xWH/1P1NfDRUWi/U/F/1Sc9ic9T/5Yp7GyKj1P+YMTarIrvU/oFEbqefA9T+Cl7mN/Mb1P26W7N+15fU/1TBDcCby9T9JevZu+QT2P+SoFi3MJPY/TxHAUTNF9j+UKmvq7Vj2P8AMvF40ZvY/eLJOFU569j8ai9JSDoH2P/25F5uijvY/8QMzTDOj9j+P0lfs/r72P/hJvlYDxvY/5cX6fzvb9j+OeEO3XOL2PyYbWqAr//Y/9y/8KnIG9z/nd5912SP3P/haGkS/Qfc/fAnI6Sdg9z/Y5wkM12f3P1aVy/MXf/c/R0onLZSe9z//eKNekLb3P/dkMqOhvvc/4DqWPQ7X9z/ojHeqRd/3P24cwOPR7/c/E/MT3yb49z/fT+gK7wj4P2aCXiHgGfg/DdvQOUA8+D/cPoPgsE34P7AKkrl5Vvg/RDfTrRdx+D/4eQrYDXr4P5ffgoI2lfg/MGqU/xS6+D9IwjKhzsz4P0iRYoA+1vg/5Ybs+tvy+D9297ftMQb5P/exCjrxD/k/OvLrRb4Z+T8i/P44gi35P8AjKHB5N/k/xV8++rVV+T/k+mxpKGr5P/Aan114dPk/R+QyUMWT+T/HEePvU575P42Pr8ihs/k/jj9ZvTHJ+T+Hh1IDE9T5P+aOC4ce9fk/96DxyX4L+j86tSQryhb6P39/epeYLfo/1/51HRw5+j9QoDfXskT6P1asNwVdUPo/5vE+xuxn+j8nR57m3Iv6P+ij47uKsPo/EgqA8GvJ+j9GxMZ9p+L6P90RjPRn7/o/Uf/g7y8J+z/nBhf7WCP7P7Xh8vvlPfs/+JB26VJL+z+W9u6Te2b7P2fzkwoQgvs/D7F/wAOQ+z9lpCJUQKz7PwDkAhuKuvs/DgcVgPHI+z8IfgkXG+b7Py8loxzBA/w/mAvHyOch/D/85++9LDH8P+btNouTQPw/juR8D8lf/D/msjBBjX/8P35+oFDln/w/aGuffkqw/D/u+ue31sD8PyKwL7iK0fw/xouCQGfi/D+JjWYJnQT9P0+3o+j3Ff0/5Qir1zE5/T94WDKsEkv9PyZeCvghXf0/F2I2r2Bv/T/nuk/Nz4H9P1Um11VwlP0/yG+KVEOn/T+Aq77dSbr9P2dSvw6Fzf0/dpAyDvbg/T/nHYMMnvT9Pz8CUER+CP4/+Kfi+pcc/j98r6uA7DD+P85ph3ZLWv4/R/AKxFhv/j8NbtecpoT+Pw0egZE2mv4/6DJbQQqw/j9mbTNbI8b+P3d/GZ6D3P4/lyIz2izz/j9X3Z3xIAr/P9WKX9lhIf8/ZtBmmvE4/z/lyZxS0lD/P4FUCTYGaf8/aIILkI+B/z+S6KfEcJr/P8ai7lGss/8/5xl70UTN/z9Pzg/6POf/P9xRqNDLAABAvDfP3isOAEDz6F1viikAQORbY0OMNwBAQGGVd8dFAEB79qXpPVQAQHOa947xYgBA/As1duRxAEA+4wvJGIEAQCupDc6QkABAo4O76k6gAED7EMGlVbAAQPSkY6mnwABAUccrxkfRAEDLnM/1OOIAQOfKZV5+8wBAs3PpVRsFAUBTHhlmExcBQLTMu1BqKQFAJCdZFCQ8AUBzmHPxRE8BQDN+VXDRYgFAPEOFZ852AUD4a/cCQYsBQGNnGcwuoAFAR37Usp21AUDzpa0XlMsBQIuALdcY4gFAqrTDVjP5AUAzVGKT6xACQHSwGTJKKQJAo0ALk1hCAkBn1hvnIFwCQPwm40iudgJAM9hx2QySAkCAUKnhSa4CQLOJC/lzywJAftIfM5vpAkDjcs9U0QgDQDSUdxMqKQNAC4zjX7tKA0DyYv2/nW0DQPO7z7rskQNAs4eHW8e3A0B8MpnRUN8DQKNWLTaxCARAM5XBgRY0BEDqo9fAtWEEQLSfLZzMkQRAp8UvUaPEBEBzx4VDj/oEQPN4H2P2MwVAI2LjvlNxBUBLe/fJPbMFQDOr4yRv+gVAuyGtO9NHBkBzhNXrmJwGQPOOQQZP+gZAs7aZrRFjB0BjUfco1tkHQHOa947xYghAs3PpVRsFCUDzpa0XlMsJQLOJC/lzywpAM5XBgRY0DEBzhNXrmJwOQA==\",\"dtype\":\"float64\",\"shape\":[530]},\"y\":{\"__ndarray__\":\"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\",\"dtype\":\"float64\",\"shape\":[530]}},\"selected\":{\"id\":\"1054\",\"type\":\"Selection\"},\"selection_policy\":{\"id\":\"1055\",\"type\":\"UnionRenderers\"}},\"id\":\"1038\",\"type\":\"ColumnDataSource\"},{\"attributes\":{},\"id\":\"1019\",\"type\":\"BasicTicker\"},{\"attributes\":{\"gradient\":1,\"line_color\":{\"value\":\"red\"},\"y_intercept\":0},\"id\":\"1046\",\"type\":\"Slope\"},{\"attributes\":{},\"id\":\"1023\",\"type\":\"PanTool\"},{\"attributes\":{},\"id\":\"1026\",\"type\":\"SaveTool\"},{\"attributes\":{\"overlay\":{\"id\":\"1053\",\"type\":\"BoxAnnotation\"}},\"id\":\"1025\",\"type\":\"BoxZoomTool\"},{\"attributes\":{\"text\":\"\\u03bb GC: 0.98\",\"text_color\":{\"value\":\"black\"},\"text_font_size\":{\"value\":\"14pt\"},\"text_font_style\":\"bold\",\"x\":3.387577236754727,\"y\":1},\"id\":\"1047\",\"type\":\"Label\"},{\"attributes\":{\"active_drag\":\"auto\",\"active_inspect\":\"auto\",\"active_multi\":null,\"active_scroll\":\"auto\",\"active_tap\":\"auto\",\"tools\":[{\"id\":\"1023\",\"type\":\"PanTool\"},{\"id\":\"1024\",\"type\":\"WheelZoomTool\"},{\"id\":\"1025\",\"type\":\"BoxZoomTool\"},{\"id\":\"1026\",\"type\":\"SaveTool\"},{\"id\":\"1027\",\"type\":\"ResetTool\"},{\"id\":\"1028\",\"type\":\"HelpTool\"},{\"id\":\"1037\",\"type\":\"HoverTool\"}]},\"id\":\"1029\",\"type\":\"Toolbar\"}],\"root_ids\":[\"1002\"]},\"title\":\"Bokeh Application\",\"version\":\"1.4.0\"}};\n",
       "  var render_items = [{\"docid\":\"589b2498-0b57-451d-8650-2e4990462bf5\",\"roots\":{\"1002\":\"0bcbdccc-871e-4c78-9cb3-09271fd8d238\"}}];\n",
       "  root.Bokeh.embed.embed_items_notebook(docs_json, render_items);\n",
       "\n",
       "  }\n",
       "  if (root.Bokeh !== undefined) {\n",
       "    embed_document(root);\n",
       "  } else {\n",
       "    var attempts = 0;\n",
       "    var timer = setInterval(function(root) {\n",
       "      if (root.Bokeh !== undefined) {\n",
       "        clearInterval(timer);\n",
       "        embed_document(root);\n",
       "      } else {\n",
       "        attempts++;\n",
       "        if (attempts > 100) {\n",
       "          clearInterval(timer);\n",
       "          console.log(\"Bokeh: ERROR: Unable to run BokehJS code because BokehJS library is missing\");\n",
       "        }\n",
       "      }\n",
       "    }, 10, root)\n",
       "  }\n",
       "})(window);"
      ],
      "application/vnd.bokehjs_exec.v0+json": ""
     },
     "metadata": {
      "application/vnd.bokehjs_exec.v0+json": {
       "id": "1002"
      }
     },
     "output_type": "display_data"
    }
   ],
   "source": [
    "p = hl.plot.qq(gwas.p_value)\n",
    "show(p)"
   ]
  }
 ],
 "metadata": {
  "kernelspec": {
   "display_name": "popgen",
   "language": "python",
   "name": "popgen"
  },
  "language_info": {
   "codemirror_mode": {
    "name": "ipython",
    "version": 3
   },
   "file_extension": ".py",
   "mimetype": "text/x-python",
   "name": "python",
   "nbconvert_exporter": "python",
   "pygments_lexer": "ipython3",
   "version": "3.7.12"
  }
 },
 "nbformat": 4,
 "nbformat_minor": 5
}
